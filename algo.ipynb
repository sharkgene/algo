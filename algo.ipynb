{
 "cells": [
  {
   "cell_type": "code",
   "execution_count": 151,
   "metadata": {},
   "outputs": [],
   "source": [
    "import os\n",
    "import random\n",
    "from queue import Queue"
   ]
  },
  {
   "cell_type": "code",
   "execution_count": 152,
   "metadata": {},
   "outputs": [],
   "source": [
    "def binary_search(data, item):\n",
    "    low = 0\n",
    "    high = len(data)-1\n",
    "    while low <= high:\n",
    "        middle = int((low + high)/2)\n",
    "        print(low, high, middle)\n",
    "        if data[middle] == item:\n",
    "            return middle\n",
    "        if item < data[middle]:\n",
    "            high = middle - 1\n",
    "        else:\n",
    "            low = middle + 1\n",
    "    return None"
   ]
  },
  {
   "cell_type": "code",
   "execution_count": 153,
   "metadata": {},
   "outputs": [],
   "source": [
    "def findMin(data):\n",
    "    min = data[0]\n",
    "    minIdx = 0 \n",
    "    for idx, item in enumerate(data):\n",
    "        if item < min:\n",
    "            min = item\n",
    "            minIdx = idx\n",
    "    return minIdx\n",
    "\n",
    "def selectSort(data):\n",
    "    ndata = []\n",
    "    for _ in range(len(data)):\n",
    "        ndata.append(data.pop(findMin(data)))\n",
    "    return ndata"
   ]
  },
  {
   "cell_type": "code",
   "execution_count": 154,
   "metadata": {},
   "outputs": [],
   "source": [
    "def quickSort(data):\n",
    "    if len(data) == 1:\n",
    "        return data\n",
    "    base = data[0]\n",
    "    less = [x for x in data if x < base]\n",
    "    greater = [x for x in data if x > base]\n",
    "    return less + data[:1] + greater\n",
    "    "
   ]
  },
  {
   "cell_type": "code",
   "execution_count": 155,
   "metadata": {},
   "outputs": [],
   "source": [
    "def mergeSort(data):\n",
    "    if len(data) <= 1:\n",
    "        return data\n",
    "    left = mergeSort(data[:int(len(data)/2)])\n",
    "    right = mergeSort(data[int(len(data)/2):])\n",
    "    newData = []\n",
    "    i = j = 0\n",
    "    #print(left)\n",
    "    #print(right)\n",
    "    while i < len(left) and j < len(right):\n",
    "        #print(i, j)\n",
    "        if left[i] < right[j]:\n",
    "            newData.append(left[i])\n",
    "            i += 1\n",
    "        else:\n",
    "            newData.append(right[j])\n",
    "            j += 1\n",
    "    if i < len(left):\n",
    "        newData.extend(left[i:])\n",
    "    else:\n",
    "        newData.extend(right[j:])\n",
    "    return newData\n",
    "    "
   ]
  },
  {
   "cell_type": "code",
   "execution_count": 156,
   "metadata": {},
   "outputs": [],
   "source": [
    "def breadthFirst(data, root):\n",
    "    q = Queue()\n",
    "    node = root\n",
    "    q.put(root)\n",
    "    searched = []\n",
    "    while not q.empty():\n",
    "        node = q.get()\n",
    "        if node[-1] == 'm':\n",
    "            return node\n",
    "        if data.get(node) is not None:\n",
    "            for item in data.get(node):\n",
    "                if not item in searched:\n",
    "                    q.put(item)\n",
    "                    searched.append(item)\n",
    "    return None"
   ]
  },
  {
   "cell_type": "code",
   "execution_count": null,
   "metadata": {},
   "outputs": [],
   "source": []
  },
  {
   "cell_type": "code",
   "execution_count": 161,
   "metadata": {},
   "outputs": [
    {
     "name": "stdout",
     "output_type": "stream",
     "text": [
      "generate random list\n",
      "[19, 18, 1, 12, 9, 7, 16]\n",
      "sort list\n",
      "[1, 7, 9, 12, 16, 18, 19]\n",
      "search  1\n",
      "0 6 3\n",
      "0 2 1\n",
      "0 0 0\n",
      "0\n",
      "result is  sm\n"
     ]
    }
   ],
   "source": [
    "if __name__ == \"__main__\":\n",
    "    print(\"generate random list\")\n",
    "    v = random.sample(range(1,20), 7)\n",
    "    print(v)\n",
    "    print(\"sort list\")\n",
    "    #sortedArray = selectSort(v)\n",
    "    #sortedArray = quickSort(v)\n",
    "    sortedArray = mergeSort(v)\n",
    "    print(sortedArray)\n",
    "    key = random.randrange(1,15)\n",
    "    print(\"search \", key)\n",
    "    print(binary_search(sortedArray, key))\n",
    "    \n",
    "    relation = {}\n",
    "    relation['alice'] = ['quice', 'maf']\n",
    "    relation['quice'] = ['asff', 'vv']\n",
    "    relation['vv'] = ['sf', 'quice', 'sm']\n",
    "    result = breadthFirst(relation, 'alice')\n",
    "    print(\"result is \", result)\n",
    "            "
   ]
  }
 ],
 "metadata": {
  "kernelspec": {
   "display_name": "Python 3",
   "language": "python",
   "name": "python3"
  },
  "language_info": {
   "codemirror_mode": {
    "name": "ipython",
    "version": 3
   },
   "file_extension": ".py",
   "mimetype": "text/x-python",
   "name": "python",
   "nbconvert_exporter": "python",
   "pygments_lexer": "ipython3",
   "version": "3.6.4"
  }
 },
 "nbformat": 4,
 "nbformat_minor": 2
}
