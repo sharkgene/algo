{
 "cells": [
  {
   "cell_type": "code",
   "execution_count": 9,
   "metadata": {},
   "outputs": [
    {
     "name": "stdout",
     "output_type": "stream",
     "text": [
      "[12, 14, 4, 11, 5, 9, 1, 10, 6, 13]\n",
      "0 9 4\n",
      "5 9 7\n",
      "5 6 5\n",
      "None\n"
     ]
    }
   ],
   "source": [
    "import os\n",
    "import random\n",
    "\n",
    "def binary_search(data, item):\n",
    "    low = 0\n",
    "    high = len(data)-1\n",
    "    while low <= high:\n",
    "        middle = int((low + high)/2)\n",
    "        print(low, high, middle)\n",
    "        if data[middle] == item:\n",
    "            return middle\n",
    "        if item < data[middle]:\n",
    "            high = middle - 1\n",
    "        else:\n",
    "            low = middle + 1\n",
    "    return None\n",
    "\n",
    "if __name__ == \"__main__\":\n",
    "    v = random.sample(range(1,15), 10)\n",
    "    print(v)\n",
    "    print(binary_search(v,8))\n",
    "            "
   ]
  }
 ],
 "metadata": {
  "kernelspec": {
   "display_name": "Python 3",
   "language": "python",
   "name": "python3"
  },
  "language_info": {
   "codemirror_mode": {
    "name": "ipython",
    "version": 3
   },
   "file_extension": ".py",
   "mimetype": "text/x-python",
   "name": "python",
   "nbconvert_exporter": "python",
   "pygments_lexer": "ipython3",
   "version": "3.6.4"
  }
 },
 "nbformat": 4,
 "nbformat_minor": 2
}
