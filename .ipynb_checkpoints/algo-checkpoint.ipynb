{
 "cells": [
  {
   "cell_type": "code",
   "execution_count": null,
   "metadata": {},
   "outputs": [],
   "source": [
    "import os\n",
    "import random"
   ]
  },
  {
   "cell_type": "code",
   "execution_count": 14,
   "metadata": {},
   "outputs": [],
   "source": [
    "def binary_search(data, item):\n",
    "    low = 0\n",
    "    high = len(data)-1\n",
    "    while low <= high:\n",
    "        middle = int((low + high)/2)\n",
    "        print(low, high, middle)\n",
    "        if data[middle] == item:\n",
    "            return middle\n",
    "        if item < data[middle]:\n",
    "            high = middle - 1\n",
    "        else:\n",
    "            low = middle + 1\n",
    "    return None"
   ]
  },
  {
   "cell_type": "code",
   "execution_count": 22,
   "metadata": {},
   "outputs": [],
   "source": [
    "def findMin(data):\n",
    "    min = data[0]\n",
    "    minIdx = 0 \n",
    "    for idx, item in enumerate(data):\n",
    "        if item < min:\n",
    "            min = item\n",
    "            minIdx = idx\n",
    "    return minIdx\n",
    "\n",
    "def selectSort(data):\n",
    "    ndata = []\n",
    "    for _ in range(len(data)):\n",
    "        ndata.append(data.pop(findMin(data)))\n",
    "    return ndata"
   ]
  },
  {
   "cell_type": "code",
   "execution_count": 47,
   "metadata": {},
   "outputs": [],
   "source": [
    "def quickSort(data):\n",
    "    if len(data) == 1:\n",
    "        return data\n",
    "    base = data[0]\n",
    "    less = [x for x in data if x < base]\n",
    "    greater = [x for x in data if x > base]\n",
    "    return less + data[:1] + greater\n",
    "    "
   ]
  },
  {
   "cell_type": "code",
   "execution_count": 48,
   "metadata": {},
   "outputs": [
    {
     "name": "stdout",
     "output_type": "stream",
     "text": [
      "generate random list\n",
      "[10, 12, 5, 1, 2, 6, 3, 11, 13, 7]\n",
      "sort list\n",
      "[5, 1, 2, 6, 3, 7, 10, 12, 11, 13]\n",
      "search  13\n",
      "0 9 4\n",
      "5 9 7\n",
      "8 9 8\n",
      "9 9 9\n",
      "9\n"
     ]
    }
   ],
   "source": [
    "if __name__ == \"__main__\":\n",
    "    print(\"generate random list\")\n",
    "    v = random.sample(range(1,15), 10)\n",
    "    print(v)\n",
    "    print(\"sort list\")\n",
    "    #sortedArray = selectSort(v)\n",
    "    sortedArray = quickSort(v)\n",
    "    print(sortedArray)\n",
    "    key = random.randrange(1,15)\n",
    "    print(\"search \", key)\n",
    "    print(binary_search(sortedArray, key))\n",
    "            "
   ]
  }
 ],
 "metadata": {
  "kernelspec": {
   "display_name": "Python 3",
   "language": "python",
   "name": "python3"
  },
  "language_info": {
   "codemirror_mode": {
    "name": "ipython",
    "version": 3
   },
   "file_extension": ".py",
   "mimetype": "text/x-python",
   "name": "python",
   "nbconvert_exporter": "python",
   "pygments_lexer": "ipython3",
   "version": "3.6.4"
  }
 },
 "nbformat": 4,
 "nbformat_minor": 2
}
