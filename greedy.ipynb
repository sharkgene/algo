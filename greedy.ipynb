{
 "cells": [
  {
   "cell_type": "code",
   "execution_count": 19,
   "metadata": {},
   "outputs": [
    {
     "name": "stdout",
     "output_type": "stream",
     "text": [
      "{'az', 'id', 'or', 'ca', 'wa', 'mt', 'ut', 'nv'}\n",
      "['kone', 'ktwo', 'kthree', 'kfive']\n"
     ]
    }
   ],
   "source": [
    "\n",
    "stations = {}\n",
    "stations[\"kone\"] = set([\"id\", \"nv\", \"ut\"])\n",
    "stations[\"ktwo\"] = set([\"wa\", \"id\", \"mt\"])\n",
    "stations[\"kthree\"] = set([\"or\", \"nv\", \"ca\"])\n",
    "stations[\"kfour\"] = set([\"nv\", \"ut\"])\n",
    "stations[\"kfive\"] = set([\"ca\", \"az\"])\n",
    "\n",
    "if __name__ == \"__main__\":\n",
    "    final_stations = []\n",
    "    states_needed = set()\n",
    "    for station, states_for_station in stations.items():\n",
    "        states_needed |= states_for_station\n",
    "    print(states_needed)\n",
    "    while len(states_needed) > 0:\n",
    "        best_station = None\n",
    "        states_covered = set()\n",
    "        for station, states_for_station in stations.items():\n",
    "            covered = states_for_station & states_needed\n",
    "            if len(covered) > len(states_covered):\n",
    "                best_station = station\n",
    "                states_covered = covered\n",
    "        final_stations.append(best_station)\n",
    "        states_needed -= states_covered\n",
    "        #print(\"stations is\", stations)\n",
    "        #print(\"best_station is \", best_station)\n",
    "        #print(\"covered is \", covered)\n",
    "        #print(\"states_covered is \", states_covered)\n",
    "        #print(\"states_needed is \", states_needed)\n",
    "        if len(states_needed) == 0:\n",
    "            break\n",
    "        stations.pop(best_station)\n",
    "    print(final_stations)\n",
    "            \n",
    "    "
   ]
  }
 ],
 "metadata": {
  "kernelspec": {
   "display_name": "Python 3",
   "language": "python",
   "name": "python3"
  },
  "language_info": {
   "codemirror_mode": {
    "name": "ipython",
    "version": 3
   },
   "file_extension": ".py",
   "mimetype": "text/x-python",
   "name": "python",
   "nbconvert_exporter": "python",
   "pygments_lexer": "ipython3",
   "version": "3.6.4"
  }
 },
 "nbformat": 4,
 "nbformat_minor": 2
}
